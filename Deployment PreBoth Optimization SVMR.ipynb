{
 "cells": [
  {
   "cell_type": "code",
   "execution_count": 1,
   "id": "9f077bfb",
   "metadata": {},
   "outputs": [],
   "source": [
    "import pickle"
   ]
  },
  {
   "cell_type": "code",
   "execution_count": 2,
   "id": "93c4f32e",
   "metadata": {},
   "outputs": [],
   "source": [
    "loaded_model=pickle.load(open(\"finalized_model_svmrb.sav\",'rb'))\n",
    "loaded_x_scaler = pickle.load(open(\"scaler_x_model.pkl\", 'rb'))\n",
    "loaded_y_scaler = pickle.load(open(\"scaler_y_model.pkl\", 'rb'))"
   ]
  },
  {
   "cell_type": "code",
   "execution_count": 5,
   "id": "a30fa95c",
   "metadata": {},
   "outputs": [],
   "source": [
    "preinput = loaded_x_scaler.transform([[1300, 12000, 4000, 0, 1]])"
   ]
  },
  {
   "cell_type": "code",
   "execution_count": 6,
   "id": "e421f64b",
   "metadata": {},
   "outputs": [
    {
     "data": {
      "text/plain": [
       "array([[ 9.00051009e+01,  1.92053223e+03,  3.32259985e+03,\n",
       "        -9.76765571e-01,  1.98149332e+00]])"
      ]
     },
     "execution_count": 6,
     "metadata": {},
     "output_type": "execute_result"
    }
   ],
   "source": [
    "preinput"
   ]
  },
  {
   "cell_type": "code",
   "execution_count": 7,
   "id": "cbe7579a",
   "metadata": {},
   "outputs": [],
   "source": [
    "result=loaded_model.predict(preinput)"
   ]
  },
  {
   "cell_type": "code",
   "execution_count": 8,
   "id": "01065d99",
   "metadata": {},
   "outputs": [
    {
     "data": {
      "text/plain": [
       "array([0.34961713])"
      ]
     },
     "execution_count": 8,
     "metadata": {},
     "output_type": "execute_result"
    }
   ],
   "source": [
    "result"
   ]
  },
  {
   "cell_type": "code",
   "execution_count": 9,
   "id": "62345c90",
   "metadata": {},
   "outputs": [],
   "source": [
    "preoutput=loaded_y_scaler.inverse_transform([result])"
   ]
  },
  {
   "cell_type": "code",
   "execution_count": 10,
   "id": "e4fb0ddf",
   "metadata": {},
   "outputs": [
    {
     "data": {
      "text/plain": [
       "array([[17384.18722656]])"
      ]
     },
     "execution_count": 10,
     "metadata": {},
     "output_type": "execute_result"
    }
   ],
   "source": [
    "preoutput"
   ]
  },
  {
   "cell_type": "code",
   "execution_count": null,
   "id": "e205c13b",
   "metadata": {},
   "outputs": [],
   "source": []
  }
 ],
 "metadata": {
  "kernelspec": {
   "display_name": "Python 3 (ipykernel)",
   "language": "python",
   "name": "python3"
  },
  "language_info": {
   "codemirror_mode": {
    "name": "ipython",
    "version": 3
   },
   "file_extension": ".py",
   "mimetype": "text/x-python",
   "name": "python",
   "nbconvert_exporter": "python",
   "pygments_lexer": "ipython3",
   "version": "3.9.7"
  }
 },
 "nbformat": 4,
 "nbformat_minor": 5
}
